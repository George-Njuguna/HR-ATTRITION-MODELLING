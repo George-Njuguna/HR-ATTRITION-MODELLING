{
 "cells": [
  {
   "cell_type": "markdown",
   "id": "d2466647",
   "metadata": {},
   "source": [
    "### Initial Data Exploration and Preparation\n",
    "\n",
    "In this phase, we aim to familiarize ourselves with the dataset's structure and content. We will also begin the data cleaning process to ensure the dataset is properly formatted and ready for analysis.\n"
   ]
  },
  {
   "cell_type": "code",
   "execution_count": 1,
   "id": "a04eaae0",
   "metadata": {},
   "outputs": [],
   "source": [
    " # Importing necessary Libraries\n",
    "import pandas as pd\n",
    "import numpy as np"
   ]
  },
  {
   "cell_type": "code",
   "execution_count": 5,
   "id": "0106a217",
   "metadata": {},
   "outputs": [],
   "source": [
    " # Loading the CSV File\n",
    "DATA = pd.read_csv( 'HR_Employee_Attrition.csv' )"
   ]
  },
  {
   "cell_type": "code",
   "execution_count": 12,
   "id": "1963608e",
   "metadata": {},
   "outputs": [
    {
     "data": {
      "application/vnd.microsoft.datawrangler.viewer.v0+json": {
       "columns": [
        {
         "name": "index",
         "rawType": "int64",
         "type": "integer"
        },
        {
         "name": "Age",
         "rawType": "int64",
         "type": "integer"
        },
        {
         "name": "Attrition",
         "rawType": "object",
         "type": "string"
        },
        {
         "name": "BusinessTravel",
         "rawType": "object",
         "type": "string"
        },
        {
         "name": "DailyRate",
         "rawType": "int64",
         "type": "integer"
        },
        {
         "name": "Department",
         "rawType": "object",
         "type": "string"
        },
        {
         "name": "DistanceFromHome",
         "rawType": "int64",
         "type": "integer"
        },
        {
         "name": "Education",
         "rawType": "int64",
         "type": "integer"
        },
        {
         "name": "EducationField",
         "rawType": "object",
         "type": "string"
        },
        {
         "name": "EmployeeCount",
         "rawType": "int64",
         "type": "integer"
        },
        {
         "name": "EmployeeNumber",
         "rawType": "int64",
         "type": "integer"
        },
        {
         "name": "EnvironmentSatisfaction",
         "rawType": "int64",
         "type": "integer"
        },
        {
         "name": "Gender",
         "rawType": "object",
         "type": "string"
        },
        {
         "name": "HourlyRate",
         "rawType": "int64",
         "type": "integer"
        },
        {
         "name": "JobInvolvement",
         "rawType": "int64",
         "type": "integer"
        },
        {
         "name": "JobLevel",
         "rawType": "int64",
         "type": "integer"
        },
        {
         "name": "JobRole",
         "rawType": "object",
         "type": "string"
        },
        {
         "name": "JobSatisfaction",
         "rawType": "int64",
         "type": "integer"
        },
        {
         "name": "MaritalStatus",
         "rawType": "object",
         "type": "string"
        },
        {
         "name": "MonthlyIncome",
         "rawType": "int64",
         "type": "integer"
        },
        {
         "name": "MonthlyRate",
         "rawType": "int64",
         "type": "integer"
        },
        {
         "name": "NumCompaniesWorked",
         "rawType": "int64",
         "type": "integer"
        },
        {
         "name": "Over18",
         "rawType": "object",
         "type": "string"
        },
        {
         "name": "OverTime",
         "rawType": "object",
         "type": "string"
        },
        {
         "name": "PercentSalaryHike",
         "rawType": "int64",
         "type": "integer"
        },
        {
         "name": "PerformanceRating",
         "rawType": "int64",
         "type": "integer"
        },
        {
         "name": "RelationshipSatisfaction",
         "rawType": "int64",
         "type": "integer"
        },
        {
         "name": "StandardHours",
         "rawType": "int64",
         "type": "integer"
        },
        {
         "name": "StockOptionLevel",
         "rawType": "int64",
         "type": "integer"
        },
        {
         "name": "TotalWorkingYears",
         "rawType": "int64",
         "type": "integer"
        },
        {
         "name": "TrainingTimesLastYear",
         "rawType": "int64",
         "type": "integer"
        },
        {
         "name": "WorkLifeBalance",
         "rawType": "int64",
         "type": "integer"
        },
        {
         "name": "YearsAtCompany",
         "rawType": "int64",
         "type": "integer"
        },
        {
         "name": "YearsInCurrentRole",
         "rawType": "int64",
         "type": "integer"
        },
        {
         "name": "YearsSinceLastPromotion",
         "rawType": "int64",
         "type": "integer"
        },
        {
         "name": "YearsWithCurrManager",
         "rawType": "int64",
         "type": "integer"
        }
       ],
       "ref": "07223cba-17d4-4d48-9d66-691acc396ceb",
       "rows": [
        [
         "0",
         "41",
         "Yes",
         "Travel_Rarely",
         "1102",
         "Sales",
         "1",
         "2",
         "Life Sciences",
         "1",
         "1",
         "2",
         "Female",
         "94",
         "3",
         "2",
         "Sales Executive",
         "4",
         "Single",
         "5993",
         "19479",
         "8",
         "Y",
         "Yes",
         "11",
         "3",
         "1",
         "80",
         "0",
         "8",
         "0",
         "1",
         "6",
         "4",
         "0",
         "5"
        ],
        [
         "1",
         "49",
         "No",
         "Travel_Frequently",
         "279",
         "Research & Development",
         "8",
         "1",
         "Life Sciences",
         "1",
         "2",
         "3",
         "Male",
         "61",
         "2",
         "2",
         "Research Scientist",
         "2",
         "Married",
         "5130",
         "24907",
         "1",
         "Y",
         "No",
         "23",
         "4",
         "4",
         "80",
         "1",
         "10",
         "3",
         "3",
         "10",
         "7",
         "1",
         "7"
        ],
        [
         "2",
         "37",
         "Yes",
         "Travel_Rarely",
         "1373",
         "Research & Development",
         "2",
         "2",
         "Other",
         "1",
         "4",
         "4",
         "Male",
         "92",
         "2",
         "1",
         "Laboratory Technician",
         "3",
         "Single",
         "2090",
         "2396",
         "6",
         "Y",
         "Yes",
         "15",
         "3",
         "2",
         "80",
         "0",
         "7",
         "3",
         "3",
         "0",
         "0",
         "0",
         "0"
        ],
        [
         "3",
         "33",
         "No",
         "Travel_Frequently",
         "1392",
         "Research & Development",
         "3",
         "4",
         "Life Sciences",
         "1",
         "5",
         "4",
         "Female",
         "56",
         "3",
         "1",
         "Research Scientist",
         "3",
         "Married",
         "2909",
         "23159",
         "1",
         "Y",
         "Yes",
         "11",
         "3",
         "3",
         "80",
         "0",
         "8",
         "3",
         "3",
         "8",
         "7",
         "3",
         "0"
        ],
        [
         "4",
         "27",
         "No",
         "Travel_Rarely",
         "591",
         "Research & Development",
         "2",
         "1",
         "Medical",
         "1",
         "7",
         "1",
         "Male",
         "40",
         "3",
         "1",
         "Laboratory Technician",
         "2",
         "Married",
         "3468",
         "16632",
         "9",
         "Y",
         "No",
         "12",
         "3",
         "4",
         "80",
         "1",
         "6",
         "3",
         "3",
         "2",
         "2",
         "2",
         "2"
        ]
       ],
       "shape": {
        "columns": 35,
        "rows": 5
       }
      },
      "text/html": [
       "<div>\n",
       "<style scoped>\n",
       "    .dataframe tbody tr th:only-of-type {\n",
       "        vertical-align: middle;\n",
       "    }\n",
       "\n",
       "    .dataframe tbody tr th {\n",
       "        vertical-align: top;\n",
       "    }\n",
       "\n",
       "    .dataframe thead th {\n",
       "        text-align: right;\n",
       "    }\n",
       "</style>\n",
       "<table border=\"1\" class=\"dataframe\">\n",
       "  <thead>\n",
       "    <tr style=\"text-align: right;\">\n",
       "      <th></th>\n",
       "      <th>Age</th>\n",
       "      <th>Attrition</th>\n",
       "      <th>BusinessTravel</th>\n",
       "      <th>DailyRate</th>\n",
       "      <th>Department</th>\n",
       "      <th>DistanceFromHome</th>\n",
       "      <th>Education</th>\n",
       "      <th>EducationField</th>\n",
       "      <th>EmployeeCount</th>\n",
       "      <th>EmployeeNumber</th>\n",
       "      <th>...</th>\n",
       "      <th>RelationshipSatisfaction</th>\n",
       "      <th>StandardHours</th>\n",
       "      <th>StockOptionLevel</th>\n",
       "      <th>TotalWorkingYears</th>\n",
       "      <th>TrainingTimesLastYear</th>\n",
       "      <th>WorkLifeBalance</th>\n",
       "      <th>YearsAtCompany</th>\n",
       "      <th>YearsInCurrentRole</th>\n",
       "      <th>YearsSinceLastPromotion</th>\n",
       "      <th>YearsWithCurrManager</th>\n",
       "    </tr>\n",
       "  </thead>\n",
       "  <tbody>\n",
       "    <tr>\n",
       "      <th>0</th>\n",
       "      <td>41</td>\n",
       "      <td>Yes</td>\n",
       "      <td>Travel_Rarely</td>\n",
       "      <td>1102</td>\n",
       "      <td>Sales</td>\n",
       "      <td>1</td>\n",
       "      <td>2</td>\n",
       "      <td>Life Sciences</td>\n",
       "      <td>1</td>\n",
       "      <td>1</td>\n",
       "      <td>...</td>\n",
       "      <td>1</td>\n",
       "      <td>80</td>\n",
       "      <td>0</td>\n",
       "      <td>8</td>\n",
       "      <td>0</td>\n",
       "      <td>1</td>\n",
       "      <td>6</td>\n",
       "      <td>4</td>\n",
       "      <td>0</td>\n",
       "      <td>5</td>\n",
       "    </tr>\n",
       "    <tr>\n",
       "      <th>1</th>\n",
       "      <td>49</td>\n",
       "      <td>No</td>\n",
       "      <td>Travel_Frequently</td>\n",
       "      <td>279</td>\n",
       "      <td>Research &amp; Development</td>\n",
       "      <td>8</td>\n",
       "      <td>1</td>\n",
       "      <td>Life Sciences</td>\n",
       "      <td>1</td>\n",
       "      <td>2</td>\n",
       "      <td>...</td>\n",
       "      <td>4</td>\n",
       "      <td>80</td>\n",
       "      <td>1</td>\n",
       "      <td>10</td>\n",
       "      <td>3</td>\n",
       "      <td>3</td>\n",
       "      <td>10</td>\n",
       "      <td>7</td>\n",
       "      <td>1</td>\n",
       "      <td>7</td>\n",
       "    </tr>\n",
       "    <tr>\n",
       "      <th>2</th>\n",
       "      <td>37</td>\n",
       "      <td>Yes</td>\n",
       "      <td>Travel_Rarely</td>\n",
       "      <td>1373</td>\n",
       "      <td>Research &amp; Development</td>\n",
       "      <td>2</td>\n",
       "      <td>2</td>\n",
       "      <td>Other</td>\n",
       "      <td>1</td>\n",
       "      <td>4</td>\n",
       "      <td>...</td>\n",
       "      <td>2</td>\n",
       "      <td>80</td>\n",
       "      <td>0</td>\n",
       "      <td>7</td>\n",
       "      <td>3</td>\n",
       "      <td>3</td>\n",
       "      <td>0</td>\n",
       "      <td>0</td>\n",
       "      <td>0</td>\n",
       "      <td>0</td>\n",
       "    </tr>\n",
       "    <tr>\n",
       "      <th>3</th>\n",
       "      <td>33</td>\n",
       "      <td>No</td>\n",
       "      <td>Travel_Frequently</td>\n",
       "      <td>1392</td>\n",
       "      <td>Research &amp; Development</td>\n",
       "      <td>3</td>\n",
       "      <td>4</td>\n",
       "      <td>Life Sciences</td>\n",
       "      <td>1</td>\n",
       "      <td>5</td>\n",
       "      <td>...</td>\n",
       "      <td>3</td>\n",
       "      <td>80</td>\n",
       "      <td>0</td>\n",
       "      <td>8</td>\n",
       "      <td>3</td>\n",
       "      <td>3</td>\n",
       "      <td>8</td>\n",
       "      <td>7</td>\n",
       "      <td>3</td>\n",
       "      <td>0</td>\n",
       "    </tr>\n",
       "    <tr>\n",
       "      <th>4</th>\n",
       "      <td>27</td>\n",
       "      <td>No</td>\n",
       "      <td>Travel_Rarely</td>\n",
       "      <td>591</td>\n",
       "      <td>Research &amp; Development</td>\n",
       "      <td>2</td>\n",
       "      <td>1</td>\n",
       "      <td>Medical</td>\n",
       "      <td>1</td>\n",
       "      <td>7</td>\n",
       "      <td>...</td>\n",
       "      <td>4</td>\n",
       "      <td>80</td>\n",
       "      <td>1</td>\n",
       "      <td>6</td>\n",
       "      <td>3</td>\n",
       "      <td>3</td>\n",
       "      <td>2</td>\n",
       "      <td>2</td>\n",
       "      <td>2</td>\n",
       "      <td>2</td>\n",
       "    </tr>\n",
       "  </tbody>\n",
       "</table>\n",
       "<p>5 rows × 35 columns</p>\n",
       "</div>"
      ],
      "text/plain": [
       "   Age Attrition     BusinessTravel  DailyRate              Department  \\\n",
       "0   41       Yes      Travel_Rarely       1102                   Sales   \n",
       "1   49        No  Travel_Frequently        279  Research & Development   \n",
       "2   37       Yes      Travel_Rarely       1373  Research & Development   \n",
       "3   33        No  Travel_Frequently       1392  Research & Development   \n",
       "4   27        No      Travel_Rarely        591  Research & Development   \n",
       "\n",
       "   DistanceFromHome  Education EducationField  EmployeeCount  EmployeeNumber  \\\n",
       "0                 1          2  Life Sciences              1               1   \n",
       "1                 8          1  Life Sciences              1               2   \n",
       "2                 2          2          Other              1               4   \n",
       "3                 3          4  Life Sciences              1               5   \n",
       "4                 2          1        Medical              1               7   \n",
       "\n",
       "   ...  RelationshipSatisfaction StandardHours  StockOptionLevel  \\\n",
       "0  ...                         1            80                 0   \n",
       "1  ...                         4            80                 1   \n",
       "2  ...                         2            80                 0   \n",
       "3  ...                         3            80                 0   \n",
       "4  ...                         4            80                 1   \n",
       "\n",
       "   TotalWorkingYears  TrainingTimesLastYear WorkLifeBalance  YearsAtCompany  \\\n",
       "0                  8                      0               1               6   \n",
       "1                 10                      3               3              10   \n",
       "2                  7                      3               3               0   \n",
       "3                  8                      3               3               8   \n",
       "4                  6                      3               3               2   \n",
       "\n",
       "  YearsInCurrentRole  YearsSinceLastPromotion  YearsWithCurrManager  \n",
       "0                  4                        0                     5  \n",
       "1                  7                        1                     7  \n",
       "2                  0                        0                     0  \n",
       "3                  7                        3                     0  \n",
       "4                  2                        2                     2  \n",
       "\n",
       "[5 rows x 35 columns]"
      ]
     },
     "metadata": {},
     "output_type": "display_data"
    },
    {
     "data": {
      "application/vnd.microsoft.datawrangler.viewer.v0+json": {
       "columns": [
        {
         "name": "index",
         "rawType": "int64",
         "type": "integer"
        },
        {
         "name": "Age",
         "rawType": "int64",
         "type": "integer"
        },
        {
         "name": "Attrition",
         "rawType": "object",
         "type": "string"
        },
        {
         "name": "BusinessTravel",
         "rawType": "object",
         "type": "string"
        },
        {
         "name": "DailyRate",
         "rawType": "int64",
         "type": "integer"
        },
        {
         "name": "Department",
         "rawType": "object",
         "type": "string"
        },
        {
         "name": "DistanceFromHome",
         "rawType": "int64",
         "type": "integer"
        },
        {
         "name": "Education",
         "rawType": "int64",
         "type": "integer"
        },
        {
         "name": "EducationField",
         "rawType": "object",
         "type": "string"
        },
        {
         "name": "EmployeeCount",
         "rawType": "int64",
         "type": "integer"
        },
        {
         "name": "EmployeeNumber",
         "rawType": "int64",
         "type": "integer"
        },
        {
         "name": "EnvironmentSatisfaction",
         "rawType": "int64",
         "type": "integer"
        },
        {
         "name": "Gender",
         "rawType": "object",
         "type": "string"
        },
        {
         "name": "HourlyRate",
         "rawType": "int64",
         "type": "integer"
        },
        {
         "name": "JobInvolvement",
         "rawType": "int64",
         "type": "integer"
        },
        {
         "name": "JobLevel",
         "rawType": "int64",
         "type": "integer"
        },
        {
         "name": "JobRole",
         "rawType": "object",
         "type": "string"
        },
        {
         "name": "JobSatisfaction",
         "rawType": "int64",
         "type": "integer"
        },
        {
         "name": "MaritalStatus",
         "rawType": "object",
         "type": "string"
        },
        {
         "name": "MonthlyIncome",
         "rawType": "int64",
         "type": "integer"
        },
        {
         "name": "MonthlyRate",
         "rawType": "int64",
         "type": "integer"
        },
        {
         "name": "NumCompaniesWorked",
         "rawType": "int64",
         "type": "integer"
        },
        {
         "name": "Over18",
         "rawType": "object",
         "type": "string"
        },
        {
         "name": "OverTime",
         "rawType": "object",
         "type": "string"
        },
        {
         "name": "PercentSalaryHike",
         "rawType": "int64",
         "type": "integer"
        },
        {
         "name": "PerformanceRating",
         "rawType": "int64",
         "type": "integer"
        },
        {
         "name": "RelationshipSatisfaction",
         "rawType": "int64",
         "type": "integer"
        },
        {
         "name": "StandardHours",
         "rawType": "int64",
         "type": "integer"
        },
        {
         "name": "StockOptionLevel",
         "rawType": "int64",
         "type": "integer"
        },
        {
         "name": "TotalWorkingYears",
         "rawType": "int64",
         "type": "integer"
        },
        {
         "name": "TrainingTimesLastYear",
         "rawType": "int64",
         "type": "integer"
        },
        {
         "name": "WorkLifeBalance",
         "rawType": "int64",
         "type": "integer"
        },
        {
         "name": "YearsAtCompany",
         "rawType": "int64",
         "type": "integer"
        },
        {
         "name": "YearsInCurrentRole",
         "rawType": "int64",
         "type": "integer"
        },
        {
         "name": "YearsSinceLastPromotion",
         "rawType": "int64",
         "type": "integer"
        },
        {
         "name": "YearsWithCurrManager",
         "rawType": "int64",
         "type": "integer"
        }
       ],
       "ref": "cc63b079-289c-478f-88d8-d9c563a3bb8c",
       "rows": [
        [
         "1465",
         "36",
         "No",
         "Travel_Frequently",
         "884",
         "Research & Development",
         "23",
         "2",
         "Medical",
         "1",
         "2061",
         "3",
         "Male",
         "41",
         "4",
         "2",
         "Laboratory Technician",
         "4",
         "Married",
         "2571",
         "12290",
         "4",
         "Y",
         "No",
         "17",
         "3",
         "3",
         "80",
         "1",
         "17",
         "3",
         "3",
         "5",
         "2",
         "0",
         "3"
        ],
        [
         "1466",
         "39",
         "No",
         "Travel_Rarely",
         "613",
         "Research & Development",
         "6",
         "1",
         "Medical",
         "1",
         "2062",
         "4",
         "Male",
         "42",
         "2",
         "3",
         "Healthcare Representative",
         "1",
         "Married",
         "9991",
         "21457",
         "4",
         "Y",
         "No",
         "15",
         "3",
         "1",
         "80",
         "1",
         "9",
         "5",
         "3",
         "7",
         "7",
         "1",
         "7"
        ],
        [
         "1467",
         "27",
         "No",
         "Travel_Rarely",
         "155",
         "Research & Development",
         "4",
         "3",
         "Life Sciences",
         "1",
         "2064",
         "2",
         "Male",
         "87",
         "4",
         "2",
         "Manufacturing Director",
         "2",
         "Married",
         "6142",
         "5174",
         "1",
         "Y",
         "Yes",
         "20",
         "4",
         "2",
         "80",
         "1",
         "6",
         "0",
         "3",
         "6",
         "2",
         "0",
         "3"
        ],
        [
         "1468",
         "49",
         "No",
         "Travel_Frequently",
         "1023",
         "Sales",
         "2",
         "3",
         "Medical",
         "1",
         "2065",
         "4",
         "Male",
         "63",
         "2",
         "2",
         "Sales Executive",
         "2",
         "Married",
         "5390",
         "13243",
         "2",
         "Y",
         "No",
         "14",
         "3",
         "4",
         "80",
         "0",
         "17",
         "3",
         "2",
         "9",
         "6",
         "0",
         "8"
        ],
        [
         "1469",
         "34",
         "No",
         "Travel_Rarely",
         "628",
         "Research & Development",
         "8",
         "3",
         "Medical",
         "1",
         "2068",
         "2",
         "Male",
         "82",
         "4",
         "2",
         "Laboratory Technician",
         "3",
         "Married",
         "4404",
         "10228",
         "2",
         "Y",
         "No",
         "12",
         "3",
         "1",
         "80",
         "0",
         "6",
         "3",
         "4",
         "4",
         "3",
         "1",
         "2"
        ]
       ],
       "shape": {
        "columns": 35,
        "rows": 5
       }
      },
      "text/html": [
       "<div>\n",
       "<style scoped>\n",
       "    .dataframe tbody tr th:only-of-type {\n",
       "        vertical-align: middle;\n",
       "    }\n",
       "\n",
       "    .dataframe tbody tr th {\n",
       "        vertical-align: top;\n",
       "    }\n",
       "\n",
       "    .dataframe thead th {\n",
       "        text-align: right;\n",
       "    }\n",
       "</style>\n",
       "<table border=\"1\" class=\"dataframe\">\n",
       "  <thead>\n",
       "    <tr style=\"text-align: right;\">\n",
       "      <th></th>\n",
       "      <th>Age</th>\n",
       "      <th>Attrition</th>\n",
       "      <th>BusinessTravel</th>\n",
       "      <th>DailyRate</th>\n",
       "      <th>Department</th>\n",
       "      <th>DistanceFromHome</th>\n",
       "      <th>Education</th>\n",
       "      <th>EducationField</th>\n",
       "      <th>EmployeeCount</th>\n",
       "      <th>EmployeeNumber</th>\n",
       "      <th>...</th>\n",
       "      <th>RelationshipSatisfaction</th>\n",
       "      <th>StandardHours</th>\n",
       "      <th>StockOptionLevel</th>\n",
       "      <th>TotalWorkingYears</th>\n",
       "      <th>TrainingTimesLastYear</th>\n",
       "      <th>WorkLifeBalance</th>\n",
       "      <th>YearsAtCompany</th>\n",
       "      <th>YearsInCurrentRole</th>\n",
       "      <th>YearsSinceLastPromotion</th>\n",
       "      <th>YearsWithCurrManager</th>\n",
       "    </tr>\n",
       "  </thead>\n",
       "  <tbody>\n",
       "    <tr>\n",
       "      <th>1465</th>\n",
       "      <td>36</td>\n",
       "      <td>No</td>\n",
       "      <td>Travel_Frequently</td>\n",
       "      <td>884</td>\n",
       "      <td>Research &amp; Development</td>\n",
       "      <td>23</td>\n",
       "      <td>2</td>\n",
       "      <td>Medical</td>\n",
       "      <td>1</td>\n",
       "      <td>2061</td>\n",
       "      <td>...</td>\n",
       "      <td>3</td>\n",
       "      <td>80</td>\n",
       "      <td>1</td>\n",
       "      <td>17</td>\n",
       "      <td>3</td>\n",
       "      <td>3</td>\n",
       "      <td>5</td>\n",
       "      <td>2</td>\n",
       "      <td>0</td>\n",
       "      <td>3</td>\n",
       "    </tr>\n",
       "    <tr>\n",
       "      <th>1466</th>\n",
       "      <td>39</td>\n",
       "      <td>No</td>\n",
       "      <td>Travel_Rarely</td>\n",
       "      <td>613</td>\n",
       "      <td>Research &amp; Development</td>\n",
       "      <td>6</td>\n",
       "      <td>1</td>\n",
       "      <td>Medical</td>\n",
       "      <td>1</td>\n",
       "      <td>2062</td>\n",
       "      <td>...</td>\n",
       "      <td>1</td>\n",
       "      <td>80</td>\n",
       "      <td>1</td>\n",
       "      <td>9</td>\n",
       "      <td>5</td>\n",
       "      <td>3</td>\n",
       "      <td>7</td>\n",
       "      <td>7</td>\n",
       "      <td>1</td>\n",
       "      <td>7</td>\n",
       "    </tr>\n",
       "    <tr>\n",
       "      <th>1467</th>\n",
       "      <td>27</td>\n",
       "      <td>No</td>\n",
       "      <td>Travel_Rarely</td>\n",
       "      <td>155</td>\n",
       "      <td>Research &amp; Development</td>\n",
       "      <td>4</td>\n",
       "      <td>3</td>\n",
       "      <td>Life Sciences</td>\n",
       "      <td>1</td>\n",
       "      <td>2064</td>\n",
       "      <td>...</td>\n",
       "      <td>2</td>\n",
       "      <td>80</td>\n",
       "      <td>1</td>\n",
       "      <td>6</td>\n",
       "      <td>0</td>\n",
       "      <td>3</td>\n",
       "      <td>6</td>\n",
       "      <td>2</td>\n",
       "      <td>0</td>\n",
       "      <td>3</td>\n",
       "    </tr>\n",
       "    <tr>\n",
       "      <th>1468</th>\n",
       "      <td>49</td>\n",
       "      <td>No</td>\n",
       "      <td>Travel_Frequently</td>\n",
       "      <td>1023</td>\n",
       "      <td>Sales</td>\n",
       "      <td>2</td>\n",
       "      <td>3</td>\n",
       "      <td>Medical</td>\n",
       "      <td>1</td>\n",
       "      <td>2065</td>\n",
       "      <td>...</td>\n",
       "      <td>4</td>\n",
       "      <td>80</td>\n",
       "      <td>0</td>\n",
       "      <td>17</td>\n",
       "      <td>3</td>\n",
       "      <td>2</td>\n",
       "      <td>9</td>\n",
       "      <td>6</td>\n",
       "      <td>0</td>\n",
       "      <td>8</td>\n",
       "    </tr>\n",
       "    <tr>\n",
       "      <th>1469</th>\n",
       "      <td>34</td>\n",
       "      <td>No</td>\n",
       "      <td>Travel_Rarely</td>\n",
       "      <td>628</td>\n",
       "      <td>Research &amp; Development</td>\n",
       "      <td>8</td>\n",
       "      <td>3</td>\n",
       "      <td>Medical</td>\n",
       "      <td>1</td>\n",
       "      <td>2068</td>\n",
       "      <td>...</td>\n",
       "      <td>1</td>\n",
       "      <td>80</td>\n",
       "      <td>0</td>\n",
       "      <td>6</td>\n",
       "      <td>3</td>\n",
       "      <td>4</td>\n",
       "      <td>4</td>\n",
       "      <td>3</td>\n",
       "      <td>1</td>\n",
       "      <td>2</td>\n",
       "    </tr>\n",
       "  </tbody>\n",
       "</table>\n",
       "<p>5 rows × 35 columns</p>\n",
       "</div>"
      ],
      "text/plain": [
       "      Age Attrition     BusinessTravel  DailyRate              Department  \\\n",
       "1465   36        No  Travel_Frequently        884  Research & Development   \n",
       "1466   39        No      Travel_Rarely        613  Research & Development   \n",
       "1467   27        No      Travel_Rarely        155  Research & Development   \n",
       "1468   49        No  Travel_Frequently       1023                   Sales   \n",
       "1469   34        No      Travel_Rarely        628  Research & Development   \n",
       "\n",
       "      DistanceFromHome  Education EducationField  EmployeeCount  \\\n",
       "1465                23          2        Medical              1   \n",
       "1466                 6          1        Medical              1   \n",
       "1467                 4          3  Life Sciences              1   \n",
       "1468                 2          3        Medical              1   \n",
       "1469                 8          3        Medical              1   \n",
       "\n",
       "      EmployeeNumber  ...  RelationshipSatisfaction StandardHours  \\\n",
       "1465            2061  ...                         3            80   \n",
       "1466            2062  ...                         1            80   \n",
       "1467            2064  ...                         2            80   \n",
       "1468            2065  ...                         4            80   \n",
       "1469            2068  ...                         1            80   \n",
       "\n",
       "      StockOptionLevel  TotalWorkingYears  TrainingTimesLastYear  \\\n",
       "1465                 1                 17                      3   \n",
       "1466                 1                  9                      5   \n",
       "1467                 1                  6                      0   \n",
       "1468                 0                 17                      3   \n",
       "1469                 0                  6                      3   \n",
       "\n",
       "     WorkLifeBalance  YearsAtCompany YearsInCurrentRole  \\\n",
       "1465               3               5                  2   \n",
       "1466               3               7                  7   \n",
       "1467               3               6                  2   \n",
       "1468               2               9                  6   \n",
       "1469               4               4                  3   \n",
       "\n",
       "      YearsSinceLastPromotion  YearsWithCurrManager  \n",
       "1465                        0                     3  \n",
       "1466                        1                     7  \n",
       "1467                        0                     3  \n",
       "1468                        0                     8  \n",
       "1469                        1                     2  \n",
       "\n",
       "[5 rows x 35 columns]"
      ]
     },
     "metadata": {},
     "output_type": "display_data"
    },
    {
     "name": "stdout",
     "output_type": "stream",
     "text": [
      "Number of Rows :  1470\n",
      "Number of Columns :  35\n",
      "Age\n",
      "Attrition\n",
      "BusinessTravel\n",
      "DailyRate\n",
      "Department\n",
      "DistanceFromHome\n",
      "Education\n",
      "EducationField\n",
      "EmployeeCount\n",
      "EmployeeNumber\n",
      "EnvironmentSatisfaction\n",
      "Gender\n",
      "HourlyRate\n",
      "JobInvolvement\n",
      "JobLevel\n",
      "JobRole\n",
      "JobSatisfaction\n",
      "MaritalStatus\n",
      "MonthlyIncome\n",
      "MonthlyRate\n",
      "NumCompaniesWorked\n",
      "Over18\n",
      "OverTime\n",
      "PercentSalaryHike\n",
      "PerformanceRating\n",
      "RelationshipSatisfaction\n",
      "StandardHours\n",
      "StockOptionLevel\n",
      "TotalWorkingYears\n",
      "TrainingTimesLastYear\n",
      "WorkLifeBalance\n",
      "YearsAtCompany\n",
      "YearsInCurrentRole\n",
      "YearsSinceLastPromotion\n",
      "YearsWithCurrManager\n"
     ]
    }
   ],
   "source": [
    " # Getting the top and bottom rows\n",
    "display( DATA.head() )\n",
    "display( DATA.tail() )\n",
    "\n",
    " # Getting the number of rows and columns\n",
    "print( 'Number of Rows : ' ,(DATA.shape)[0] )\n",
    "print( 'Number of Columns : ' ,(DATA.shape)[1] )\n",
    "\n",
    " # Getting the Columns\n",
    "for i in ( DATA.columns.to_list() ):\n",
    "    print(i)"
   ]
  },
  {
   "cell_type": "markdown",
   "id": "8ba28695",
   "metadata": {},
   "source": [
    "From the output we can see that the dataframe contains\n",
    "- 1470 rows \n",
    "- 35 Columns \n",
    "\n",
    "We will get indepth wo thw columns and understand what the columns mean and what type of data they hold."
   ]
  },
  {
   "cell_type": "code",
   "execution_count": null,
   "id": "bb411653",
   "metadata": {},
   "outputs": [
    {
     "data": {
      "application/vnd.microsoft.datawrangler.viewer.v0+json": {
       "columns": [
        {
         "name": "index",
         "rawType": "object",
         "type": "string"
        },
        {
         "name": "0",
         "rawType": "object",
         "type": "unknown"
        }
       ],
       "ref": "8ae8649e-df75-4185-ba70-7ee8f33c5df6",
       "rows": [
        [
         "Age",
         "int64"
        ],
        [
         "Attrition",
         "object"
        ],
        [
         "BusinessTravel",
         "object"
        ],
        [
         "DailyRate",
         "int64"
        ],
        [
         "Department",
         "object"
        ],
        [
         "DistanceFromHome",
         "int64"
        ],
        [
         "Education",
         "int64"
        ],
        [
         "EducationField",
         "object"
        ],
        [
         "EmployeeCount",
         "int64"
        ],
        [
         "EmployeeNumber",
         "int64"
        ],
        [
         "EnvironmentSatisfaction",
         "int64"
        ],
        [
         "Gender",
         "object"
        ],
        [
         "HourlyRate",
         "int64"
        ],
        [
         "JobInvolvement",
         "int64"
        ],
        [
         "JobLevel",
         "int64"
        ],
        [
         "JobRole",
         "object"
        ],
        [
         "JobSatisfaction",
         "int64"
        ],
        [
         "MaritalStatus",
         "object"
        ],
        [
         "MonthlyIncome",
         "int64"
        ],
        [
         "MonthlyRate",
         "int64"
        ],
        [
         "NumCompaniesWorked",
         "int64"
        ],
        [
         "Over18",
         "object"
        ],
        [
         "OverTime",
         "object"
        ],
        [
         "PercentSalaryHike",
         "int64"
        ],
        [
         "PerformanceRating",
         "int64"
        ],
        [
         "RelationshipSatisfaction",
         "int64"
        ],
        [
         "StandardHours",
         "int64"
        ],
        [
         "StockOptionLevel",
         "int64"
        ],
        [
         "TotalWorkingYears",
         "int64"
        ],
        [
         "TrainingTimesLastYear",
         "int64"
        ],
        [
         "WorkLifeBalance",
         "int64"
        ],
        [
         "YearsAtCompany",
         "int64"
        ],
        [
         "YearsInCurrentRole",
         "int64"
        ],
        [
         "YearsSinceLastPromotion",
         "int64"
        ],
        [
         "YearsWithCurrManager",
         "int64"
        ]
       ],
       "shape": {
        "columns": 1,
        "rows": 35
       }
      },
      "text/html": [
       "<div>\n",
       "<style scoped>\n",
       "    .dataframe tbody tr th:only-of-type {\n",
       "        vertical-align: middle;\n",
       "    }\n",
       "\n",
       "    .dataframe tbody tr th {\n",
       "        vertical-align: top;\n",
       "    }\n",
       "\n",
       "    .dataframe thead th {\n",
       "        text-align: right;\n",
       "    }\n",
       "</style>\n",
       "<table border=\"1\" class=\"dataframe\">\n",
       "  <thead>\n",
       "    <tr style=\"text-align: right;\">\n",
       "      <th></th>\n",
       "      <th>0</th>\n",
       "    </tr>\n",
       "  </thead>\n",
       "  <tbody>\n",
       "    <tr>\n",
       "      <th>Age</th>\n",
       "      <td>int64</td>\n",
       "    </tr>\n",
       "    <tr>\n",
       "      <th>Attrition</th>\n",
       "      <td>object</td>\n",
       "    </tr>\n",
       "    <tr>\n",
       "      <th>BusinessTravel</th>\n",
       "      <td>object</td>\n",
       "    </tr>\n",
       "    <tr>\n",
       "      <th>DailyRate</th>\n",
       "      <td>int64</td>\n",
       "    </tr>\n",
       "    <tr>\n",
       "      <th>Department</th>\n",
       "      <td>object</td>\n",
       "    </tr>\n",
       "    <tr>\n",
       "      <th>DistanceFromHome</th>\n",
       "      <td>int64</td>\n",
       "    </tr>\n",
       "    <tr>\n",
       "      <th>Education</th>\n",
       "      <td>int64</td>\n",
       "    </tr>\n",
       "    <tr>\n",
       "      <th>EducationField</th>\n",
       "      <td>object</td>\n",
       "    </tr>\n",
       "    <tr>\n",
       "      <th>EmployeeCount</th>\n",
       "      <td>int64</td>\n",
       "    </tr>\n",
       "    <tr>\n",
       "      <th>EmployeeNumber</th>\n",
       "      <td>int64</td>\n",
       "    </tr>\n",
       "    <tr>\n",
       "      <th>EnvironmentSatisfaction</th>\n",
       "      <td>int64</td>\n",
       "    </tr>\n",
       "    <tr>\n",
       "      <th>Gender</th>\n",
       "      <td>object</td>\n",
       "    </tr>\n",
       "    <tr>\n",
       "      <th>HourlyRate</th>\n",
       "      <td>int64</td>\n",
       "    </tr>\n",
       "    <tr>\n",
       "      <th>JobInvolvement</th>\n",
       "      <td>int64</td>\n",
       "    </tr>\n",
       "    <tr>\n",
       "      <th>JobLevel</th>\n",
       "      <td>int64</td>\n",
       "    </tr>\n",
       "    <tr>\n",
       "      <th>JobRole</th>\n",
       "      <td>object</td>\n",
       "    </tr>\n",
       "    <tr>\n",
       "      <th>JobSatisfaction</th>\n",
       "      <td>int64</td>\n",
       "    </tr>\n",
       "    <tr>\n",
       "      <th>MaritalStatus</th>\n",
       "      <td>object</td>\n",
       "    </tr>\n",
       "    <tr>\n",
       "      <th>MonthlyIncome</th>\n",
       "      <td>int64</td>\n",
       "    </tr>\n",
       "    <tr>\n",
       "      <th>MonthlyRate</th>\n",
       "      <td>int64</td>\n",
       "    </tr>\n",
       "    <tr>\n",
       "      <th>NumCompaniesWorked</th>\n",
       "      <td>int64</td>\n",
       "    </tr>\n",
       "    <tr>\n",
       "      <th>Over18</th>\n",
       "      <td>object</td>\n",
       "    </tr>\n",
       "    <tr>\n",
       "      <th>OverTime</th>\n",
       "      <td>object</td>\n",
       "    </tr>\n",
       "    <tr>\n",
       "      <th>PercentSalaryHike</th>\n",
       "      <td>int64</td>\n",
       "    </tr>\n",
       "    <tr>\n",
       "      <th>PerformanceRating</th>\n",
       "      <td>int64</td>\n",
       "    </tr>\n",
       "    <tr>\n",
       "      <th>RelationshipSatisfaction</th>\n",
       "      <td>int64</td>\n",
       "    </tr>\n",
       "    <tr>\n",
       "      <th>StandardHours</th>\n",
       "      <td>int64</td>\n",
       "    </tr>\n",
       "    <tr>\n",
       "      <th>StockOptionLevel</th>\n",
       "      <td>int64</td>\n",
       "    </tr>\n",
       "    <tr>\n",
       "      <th>TotalWorkingYears</th>\n",
       "      <td>int64</td>\n",
       "    </tr>\n",
       "    <tr>\n",
       "      <th>TrainingTimesLastYear</th>\n",
       "      <td>int64</td>\n",
       "    </tr>\n",
       "    <tr>\n",
       "      <th>WorkLifeBalance</th>\n",
       "      <td>int64</td>\n",
       "    </tr>\n",
       "    <tr>\n",
       "      <th>YearsAtCompany</th>\n",
       "      <td>int64</td>\n",
       "    </tr>\n",
       "    <tr>\n",
       "      <th>YearsInCurrentRole</th>\n",
       "      <td>int64</td>\n",
       "    </tr>\n",
       "    <tr>\n",
       "      <th>YearsSinceLastPromotion</th>\n",
       "      <td>int64</td>\n",
       "    </tr>\n",
       "    <tr>\n",
       "      <th>YearsWithCurrManager</th>\n",
       "      <td>int64</td>\n",
       "    </tr>\n",
       "  </tbody>\n",
       "</table>\n",
       "</div>"
      ],
      "text/plain": [
       "                               0\n",
       "Age                        int64\n",
       "Attrition                 object\n",
       "BusinessTravel            object\n",
       "DailyRate                  int64\n",
       "Department                object\n",
       "DistanceFromHome           int64\n",
       "Education                  int64\n",
       "EducationField            object\n",
       "EmployeeCount              int64\n",
       "EmployeeNumber             int64\n",
       "EnvironmentSatisfaction    int64\n",
       "Gender                    object\n",
       "HourlyRate                 int64\n",
       "JobInvolvement             int64\n",
       "JobLevel                   int64\n",
       "JobRole                   object\n",
       "JobSatisfaction            int64\n",
       "MaritalStatus             object\n",
       "MonthlyIncome              int64\n",
       "MonthlyRate                int64\n",
       "NumCompaniesWorked         int64\n",
       "Over18                    object\n",
       "OverTime                  object\n",
       "PercentSalaryHike          int64\n",
       "PerformanceRating          int64\n",
       "RelationshipSatisfaction   int64\n",
       "StandardHours              int64\n",
       "StockOptionLevel           int64\n",
       "TotalWorkingYears          int64\n",
       "TrainingTimesLastYear      int64\n",
       "WorkLifeBalance            int64\n",
       "YearsAtCompany             int64\n",
       "YearsInCurrentRole         int64\n",
       "YearsSinceLastPromotion    int64\n",
       "YearsWithCurrManager       int64"
      ]
     },
     "metadata": {},
     "output_type": "display_data"
    }
   ],
   "source": [
    " # Getting the datatypes\n",
    "display( DATA.dtypes.to_frame() )"
   ]
  },
  {
   "cell_type": "code",
   "execution_count": 33,
   "id": "d0dbce88",
   "metadata": {},
   "outputs": [
    {
     "name": "stdout",
     "output_type": "stream",
     "text": [
      "Age  =  [41 49 37 33 27]  -  43\n",
      "Attrition  =  ['Yes' 'No']  -  2\n",
      "BusinessTravel  =  ['Travel_Rarely' 'Travel_Frequently' 'Non-Travel']  -  3\n",
      "DailyRate  =  [1102  279 1373 1392  591]  -  886\n",
      "Department  =  ['Sales' 'Research & Development' 'Human Resources']  -  3\n",
      "DistanceFromHome  =  [ 1  8  2  3 24]  -  29\n",
      "Education  =  [2 1 4 3 5]  -  5\n",
      "EducationField  =  ['Life Sciences' 'Other' 'Medical' 'Marketing' 'Technical Degree']  -  6\n",
      "EmployeeCount  =  [1]  -  1\n",
      "EmployeeNumber  =  [1 2 4 5 7]  -  1470\n",
      "EnvironmentSatisfaction  =  [2 3 4 1]  -  4\n",
      "Gender  =  ['Female' 'Male']  -  2\n",
      "HourlyRate  =  [94 61 92 56 40]  -  71\n",
      "JobInvolvement  =  [3 2 4 1]  -  4\n",
      "JobLevel  =  [2 1 3 4 5]  -  5\n",
      "JobRole  =  ['Sales Executive' 'Research Scientist' 'Laboratory Technician'\n",
      " 'Manufacturing Director' 'Healthcare Representative']  -  9\n",
      "JobSatisfaction  =  [4 2 3 1]  -  4\n",
      "MaritalStatus  =  ['Single' 'Married' 'Divorced']  -  3\n",
      "MonthlyIncome  =  [5993 5130 2090 2909 3468]  -  1349\n",
      "MonthlyRate  =  [19479 24907  2396 23159 16632]  -  1427\n",
      "NumCompaniesWorked  =  [8 1 6 9 0]  -  10\n",
      "Over18  =  ['Y']  -  1\n",
      "OverTime  =  ['Yes' 'No']  -  2\n",
      "PercentSalaryHike  =  [11 23 15 12 13]  -  15\n",
      "PerformanceRating  =  [3 4]  -  2\n",
      "RelationshipSatisfaction  =  [1 4 2 3]  -  4\n",
      "StandardHours  =  [80]  -  1\n",
      "StockOptionLevel  =  [0 1 3 2]  -  4\n",
      "TotalWorkingYears  =  [ 8 10  7  6 12]  -  40\n",
      "TrainingTimesLastYear  =  [0 3 2 5 1]  -  7\n",
      "WorkLifeBalance  =  [1 3 2 4]  -  4\n",
      "YearsAtCompany  =  [ 6 10  0  8  2]  -  37\n",
      "YearsInCurrentRole  =  [4 7 0 2 5]  -  19\n",
      "YearsSinceLastPromotion  =  [0 1 3 2 7]  -  16\n",
      "YearsWithCurrManager  =  [5 7 0 2 6]  -  18\n"
     ]
    }
   ],
   "source": [
    "for i in DATA.columns.to_list() :\n",
    "    print( i , ' = ' , ( DATA[i].unique() )[0:5] , ' - ', DATA[i].nunique() )  "
   ]
  },
  {
   "cell_type": "markdown",
   "id": "127e4b21",
   "metadata": {},
   "source": [
    "From the output, we observe that the dataset primarily consists of two data types: `int64` and `object`. However, some columns that are inherently categorical in nature—such as *Education* and *JobLevel*—are currently represented as `int64`.\n",
    "\n",
    "Upon further examination:\n",
    "\n",
    "1. **Categorical Columns**:\n",
    "   The following columns contain categorical data and are currently represented as objects or integers:\n",
    "\n",
    "   * `Attrition`, `BusinessTravel`, `Department`, `EducationField`, `Gender`, `JobRole`, `MaritalStatus`, `Over18`, and `OverTime`\n",
    "\n",
    "2. **Numerical Continuous Columns**:\n",
    "   These columns represent continuous numerical values:\n",
    "\n",
    "   * `Age`, `DailyRate`, `DistanceFromHome`, `EmployeeNumber`, `HourlyRate`, `MonthlyRate`, `MonthlyIncome`, `NumCompaniesWorked`, `PercentSalaryHike`, `TotalWorkingYears`, `TrainingTimesLastYear`, `YearsAtCompany`, `YearsInCurrentRole`, `YearsSinceLastPromotion`, and `YearsWithCurrManager`\n",
    "\n",
    "3. **Numerical Categorical Columns**:\n",
    "   These are ordinal variables typically measured on a scale of 1 to 5, where 1 generally represents the lowest level of satisfaction, involvement, or performance, and 5 indicates the highest level\n",
    "\n",
    "   * `Education`, `EnvironmentSatisfaction`, `JobInvolvement`, `JobLevel`, `JobSatisfaction`, `PerformanceRating`, `StockOptionLevel`, and `WorkLifeBalance`\n",
    "\n",
    "**NEXT**\n",
    "\n",
    "We will proceed to clean the dataset and convert columns to their appropriate data types to ensure proper analysis and modeling.\n"
   ]
  },
  {
   "cell_type": "code",
   "execution_count": 40,
   "id": "f69cfcaa",
   "metadata": {},
   "outputs": [
    {
     "data": {
      "application/vnd.microsoft.datawrangler.viewer.v0+json": {
       "columns": [
        {
         "name": "index",
         "rawType": "object",
         "type": "string"
        },
        {
         "name": "0",
         "rawType": "int64",
         "type": "integer"
        }
       ],
       "ref": "15a0cc76-9ac2-4621-a45b-03c8b591a78c",
       "rows": [
        [
         "Age",
         "0"
        ],
        [
         "Attrition",
         "0"
        ],
        [
         "BusinessTravel",
         "0"
        ],
        [
         "DailyRate",
         "0"
        ],
        [
         "Department",
         "0"
        ],
        [
         "DistanceFromHome",
         "0"
        ],
        [
         "Education",
         "0"
        ],
        [
         "EducationField",
         "0"
        ],
        [
         "EmployeeCount",
         "0"
        ],
        [
         "EmployeeNumber",
         "0"
        ],
        [
         "EnvironmentSatisfaction",
         "0"
        ],
        [
         "Gender",
         "0"
        ],
        [
         "HourlyRate",
         "0"
        ],
        [
         "JobInvolvement",
         "0"
        ],
        [
         "JobLevel",
         "0"
        ],
        [
         "JobRole",
         "0"
        ],
        [
         "JobSatisfaction",
         "0"
        ],
        [
         "MaritalStatus",
         "0"
        ],
        [
         "MonthlyIncome",
         "0"
        ],
        [
         "MonthlyRate",
         "0"
        ],
        [
         "NumCompaniesWorked",
         "0"
        ],
        [
         "Over18",
         "0"
        ],
        [
         "OverTime",
         "0"
        ],
        [
         "PercentSalaryHike",
         "0"
        ],
        [
         "PerformanceRating",
         "0"
        ],
        [
         "RelationshipSatisfaction",
         "0"
        ],
        [
         "StandardHours",
         "0"
        ],
        [
         "StockOptionLevel",
         "0"
        ],
        [
         "TotalWorkingYears",
         "0"
        ],
        [
         "TrainingTimesLastYear",
         "0"
        ],
        [
         "WorkLifeBalance",
         "0"
        ],
        [
         "YearsAtCompany",
         "0"
        ],
        [
         "YearsInCurrentRole",
         "0"
        ],
        [
         "YearsSinceLastPromotion",
         "0"
        ],
        [
         "YearsWithCurrManager",
         "0"
        ]
       ],
       "shape": {
        "columns": 1,
        "rows": 35
       }
      },
      "text/plain": [
       "Age                         0\n",
       "Attrition                   0\n",
       "BusinessTravel              0\n",
       "DailyRate                   0\n",
       "Department                  0\n",
       "DistanceFromHome            0\n",
       "Education                   0\n",
       "EducationField              0\n",
       "EmployeeCount               0\n",
       "EmployeeNumber              0\n",
       "EnvironmentSatisfaction     0\n",
       "Gender                      0\n",
       "HourlyRate                  0\n",
       "JobInvolvement              0\n",
       "JobLevel                    0\n",
       "JobRole                     0\n",
       "JobSatisfaction             0\n",
       "MaritalStatus               0\n",
       "MonthlyIncome               0\n",
       "MonthlyRate                 0\n",
       "NumCompaniesWorked          0\n",
       "Over18                      0\n",
       "OverTime                    0\n",
       "PercentSalaryHike           0\n",
       "PerformanceRating           0\n",
       "RelationshipSatisfaction    0\n",
       "StandardHours               0\n",
       "StockOptionLevel            0\n",
       "TotalWorkingYears           0\n",
       "TrainingTimesLastYear       0\n",
       "WorkLifeBalance             0\n",
       "YearsAtCompany              0\n",
       "YearsInCurrentRole          0\n",
       "YearsSinceLastPromotion     0\n",
       "YearsWithCurrManager        0\n",
       "dtype: int64"
      ]
     },
     "metadata": {},
     "output_type": "display_data"
    },
    {
     "name": "stdout",
     "output_type": "stream",
     "text": [
      "Number of Duplicated Values :  0\n"
     ]
    }
   ],
   "source": [
    " # Getting null values\n",
    "display( DATA.isnull().sum() )\n",
    "\n",
    " # Getting the Duplicated \n",
    "print( 'Number of Duplicated Values : ' , DATA.duplicated().sum() )"
   ]
  },
  {
   "cell_type": "markdown",
   "id": "fcd3e05a",
   "metadata": {},
   "source": [
    "From the output, we confirm that the dataset contains no missing (null) values and no duplicate records. This indicates that the data is clean and ready for further analysis.\n",
    "\n",
    "\n",
    "We will now proceed with Exploratory Data Analysis (EDA) to uncover patterns, trends, and insights within the dataset."
   ]
  }
 ],
 "metadata": {
  "kernelspec": {
   "display_name": "Python 3",
   "language": "python",
   "name": "python3"
  },
  "language_info": {
   "codemirror_mode": {
    "name": "ipython",
    "version": 3
   },
   "file_extension": ".py",
   "mimetype": "text/x-python",
   "name": "python",
   "nbconvert_exporter": "python",
   "pygments_lexer": "ipython3",
   "version": "3.12.10"
  }
 },
 "nbformat": 4,
 "nbformat_minor": 5
}
